{
 "cells": [
  {
   "cell_type": "code",
   "execution_count": null,
   "metadata": {
    "collapsed": true
   },
   "outputs": [],
   "source": [
    "PPMC_ORDER = 4\n",
    "\n",
    "import csv\n",
    "from PPMC import PPMC\n",
    "\n",
    "text = \"i got them in a very timely manner and they're all very large and green. there seems to be an inordinate amount of the seeds e out a weird beige color, but it still tastes great and is a much better deal than any of the indian markets in town. cheers to frontier.\"\n",
    "\n",
    "trainRDD = sc.textFile(\"train_sin_repeticiones.csv\").mapPartitions(lambda x: csv.reader(x))\n",
    "trainRDD = trainRDD.filter(lambda line: line[ID] != \"Id\")\n",
    "\n",
    "#se podria hacer un map antes que limpie el texto\n",
    "#comprimo todo el train con rdd\n",
    "trainRDD = trainRDD.map(lambda line: (line[PREDICTION], (len(PPMC(PPMC_ORDER).compress(line[TEXT])), 1))\n",
    "\n",
    "#comprimo el texto de prueba con los modelos de todo el rdd\n",
    "trainRDD = trainRDD.map(lambda line: (line[0], (line[1][0].compress(text), line[1][1])))\n",
    "                        \n",
    "trainRDD = trainRDD.reduceByKey(lambda value1, value2: (value1[0]+value2[0], value1[1]+value2[1]))\n",
    "\n",
    "trainRDD = trainRDD.filter(lambda line1, line2: line1 if line1[1][0]/line1[1][1] < line2[1][0]/line2[1][1] else line2)"
   ]
  }
 ],
 "metadata": {
  "kernelspec": {
   "display_name": "Python 2",
   "language": "python",
   "name": "python2"
  },
  "language_info": {
   "codemirror_mode": {
    "name": "ipython",
    "version": 2
   },
   "file_extension": ".py",
   "mimetype": "text/x-python",
   "name": "python",
   "nbconvert_exporter": "python",
   "pygments_lexer": "ipython2",
   "version": "2.7.6"
  }
 },
 "nbformat": 4,
 "nbformat_minor": 1
}
