{
 "cells": [
  {
   "cell_type": "markdown",
   "metadata": {},
   "source": [
    "# Predicción del set de Fine Food Reviews con PPMC"
   ]
  },
  {
   "cell_type": "markdown",
   "metadata": {},
   "source": [
    " "
   ]
  },
  {
   "cell_type": "markdown",
   "metadata": {},
   "source": [
    "Usamos PPMC para entrenar 5 objetos PPMC distintos, uno para cada puntaje. Luego para predecir cada review del test lo comprimimos con cada uno de los 5 PPMCs y nos quedamos con el label del que comprima mejor."
   ]
  },
  {
   "cell_type": "markdown",
   "metadata": {},
   "source": [
    "Elegimos PPMC de orden 4 porque por experiencia con Vowpal Wabbit resultó ser el mejor n-grama."
   ]
  },
  {
   "cell_type": "code",
   "execution_count": 1,
   "metadata": {
    "collapsed": false
   },
   "outputs": [],
   "source": [
    "PPMC_ORDER = 4\n",
    "\n",
    "# Campos dentro del CSV\n",
    "ID = 0\n",
    "TEXT = 9\n",
    "PREDICTION = 6"
   ]
  },
  {
   "cell_type": "code",
   "execution_count": 2,
   "metadata": {
    "collapsed": true
   },
   "outputs": [],
   "source": [
    "import sys\n",
    "reload(sys)\n",
    "sys.setdefaultencoding('utf-8')\n",
    "import csv\n",
    "from PPMC import PPMC"
   ]
  },
  {
   "cell_type": "code",
   "execution_count": 3,
   "metadata": {
    "collapsed": true
   },
   "outputs": [],
   "source": [
    "# Función que sirve cuando el RDD es (Predicción, (PPMC, [Text1,Text2,...,TextN]))\n",
    "def compress_all(line):\n",
    "    p = line[1][0]\n",
    "    reviews = line[1][1]\n",
    "    for review in reviews:\n",
    "        p.compress(review)\n",
    "    return (line[0], (p, len(reviews)))"
   ]
  },
  {
   "cell_type": "markdown",
   "metadata": {},
   "source": [
    " "
   ]
  },
  {
   "cell_type": "markdown",
   "metadata": {},
   "source": [
    "Operamos dentro del RDD para comprimir todas las reviews de un mismo puntaje con el mismo objeto PPMC.\n",
    "De esta forma, cuando terminemos vamos a tener 5 PPMCs, uno por cada puntaje."
   ]
  },
  {
   "cell_type": "code",
   "execution_count": 4,
   "metadata": {
    "collapsed": true
   },
   "outputs": [],
   "source": [
    "# Montamos el CSV a un RDD, cada registro es una linea del archivo\n",
    "trainRDD = sc.textFile(\"train_sin_repeticiones.csv\", minPartitions=None, use_unicode=False).mapPartitions(lambda x: csv.reader(x))\n",
    "\n",
    "# Extraemos la cabecera\n",
    "trainRDD = trainRDD.filter(lambda line: line[ID] != \"Id\")\n",
    "\n",
    "# Tomamos una porción del RDD para probar\n",
    "# trainRDD = trainRDD.sample(False, 0.01)\n",
    "\n",
    "# (Predicción,[Texto])\n",
    "trainRDD = trainRDD.map(lambda line: (line[PREDICTION], [line[TEXT]]))\n",
    "\n",
    "# (Predicción, [Text1,Text2,...,TextN])\n",
    "trainRDD = trainRDD.reduceByKey(lambda value1, value2: value1+value2)\n",
    "\n",
    "# (Predicción, (PPMC, [Text1,Text2,...,TextN]))\n",
    "trainRDD = trainRDD.map(lambda line: (line[0], (PPMC(PPMC_ORDER), line[1])))\n",
    "\n",
    "# (Predicción, (PPMC, Cantidad de reviews))\n",
    "trainRDD = trainRDD.map(lambda line: compress_all(line))"
   ]
  },
  {
   "cell_type": "markdown",
   "metadata": {},
   "source": [
    "  "
   ]
  },
  {
   "cell_type": "markdown",
   "metadata": {
    "collapsed": true
   },
   "source": [
    "A continuación, con los PPMCs ya entrenados, procedemos a comprimir cada review del test con cada uno de los 5 PPMCs. El que nos devuelve el número de menor cantidad de bits es el que mejor comprime. Esto significa que está más cerca de las reviews comprimidas con ese PPMC, por lo tanto se lo clasifica con ese label."
   ]
  },
  {
   "cell_type": "code",
   "execution_count": 5,
   "metadata": {
    "collapsed": false
   },
   "outputs": [],
   "source": [
    "import copy\n",
    "\n",
    "# Montamos el CSV a un RDD, cada registro es una linea del archivo\n",
    "testRDD = sc.textFile(\"test_limpio.csv\", minPartitions=None, use_unicode=False).mapPartitions(lambda x: csv.reader(x))\n",
    "\n",
    "# Extraemos la cabecera\n",
    "testRDD = testRDD.filter(lambda line: line[ID] != \"Id\")\n",
    "\n",
    "# Tomamos una porción del RDD para probar\n",
    "# testRDD = testRDD.sample(False, 0.01)\n",
    "\n",
    "# (Id, Texto)\n",
    "resultRDD = testRDD.map(lambda line: (line[ID], line[TEXT-1]))\n",
    "\n",
    "# ((Id, Testo),(Predicción, (PPMC, Cantidad de reviews)))\n",
    "resultRDD = resultRDD.cartesian(trainRDD)"
   ]
  },
  {
   "cell_type": "code",
   "execution_count": 6,
   "metadata": {
    "collapsed": false
   },
   "outputs": [],
   "source": [
    "# (Id, (Predicción, Cantidad de bits, Cantidad de reviews))\n",
    "resultRDD = resultRDD.map(lambda line: (line[0][0], (line[1][0], len(line[1][1][0].copy().compress(line[0][1])), \n",
    "                                         line[1][1][1])))\n",
    "\n",
    "# (Id, (Predicción, Cantidad de bits, Cantidad de reviews))\n",
    "resultRDD = resultRDD.reduceByKey(lambda value1, value2: value1 if value1[1] < value2[1] else value2)\n",
    "\n",
    "# (Id, Predicción)\n",
    "resultRDD = resultRDD.map(lambda line: (line[0], line[1][0]))"
   ]
  },
  {
   "cell_type": "markdown",
   "metadata": {
    "collapsed": true
   },
   "source": [
    "Por último generamos el archivo de salida con las predicciones realizadas."
   ]
  },
  {
   "cell_type": "code",
   "execution_count": null,
   "metadata": {
    "collapsed": false
   },
   "outputs": [],
   "source": [
    "# Archivo de salida\n",
    "\n",
    "lines = resultRDD.map(lambda line: \",\".join(str(d) for d in line))\n",
    "lines.saveAsTextFile(\"test_prediction_ppmc.csv\")\n"
   ]
  },
  {
   "cell_type": "code",
   "execution_count": null,
   "metadata": {
    "collapsed": true
   },
   "outputs": [],
   "source": []
  }
 ],
 "metadata": {
  "kernelspec": {
   "display_name": "pySpark",
   "language": "python",
   "name": "pyspark"
  },
  "language_info": {
   "codemirror_mode": {
    "name": "ipython",
    "version": 2
   },
   "file_extension": ".py",
   "mimetype": "text/x-python",
   "name": "python",
   "nbconvert_exporter": "python",
   "pygments_lexer": "ipython2",
   "version": "2.7.12"
  }
 },
 "nbformat": 4,
 "nbformat_minor": 1
}
