{
 "cells": [
  {
   "cell_type": "code",
   "execution_count": 2,
   "metadata": {
    "collapsed": false
   },
   "outputs": [],
   "source": [
    "import csv\n",
    "import itertools\n",
    "import numpy\n",
    "import random\n",
    "from CWHashingFamily import CWHashingFamily\n",
    "\n",
    "SHINGLES_LEN = 4\n",
    "PRIME = 997\n",
    "BINS = 900\n",
    "\n",
    "def shingles(text, shingleSize):\n",
    "    return [text[i:i+shingleSize] for i in xrange(0,len(text)-(shingleSize+1))]\n",
    "\n",
    "\n",
    "def minhash(shinglesList, seed):\n",
    "    random.seed(seed)\n",
    "    minhash = -1\n",
    "    for shingle in shinglesList:\n",
    "        cwFactory = CWHashingFamily(BINS, PRIME)\n",
    "        numericHash = cwFactory.numericFunction(random.randrange(1,PRIME), random.randrange(0,PRIME))\n",
    "        stringHash = cwFactory.stringFunction(random.randrange(0,PRIME),numericHash)\n",
    "        shHash = stringHash.hash(shingle)\n",
    "        if ((minhash == -1) or (shHash < minhash)):\n",
    "            minhash = shHash\n",
    "    return minhash"
   ]
  },
  {
   "cell_type": "code",
   "execution_count": 2,
   "metadata": {
    "collapsed": false
   },
   "outputs": [
    {
     "name": "stdout",
     "output_type": "stream",
     "text": [
      "[(u'492346', [3, 2, 0, 9, 1, 0, 1, 3, 6, 0, 0, 5, 14, 9, 0, 0, 0, 0, 7, 1, 3, 0, 1, 0, 2, 0, 0, 0, 3, 2, 0, 3]), (u'343811', [15, 5, 6, 3, 1, 3, 3, 0, 4, 0, 1, 2, 1, 0, 4, 6, 0, 4, 4, 1, 0, 5, 1, 1, 5, 5, 0, 3, 0, 5, 1, 2]), (u'347257', [20, 1, 3, 19, 24, 11, 8, 0, 33, 10, 2, 3, 21, 19, 10, 8, 2, 10, 12, 24, 0, 5, 24, 25, 1, 5, 6, 28, 0, 1, 3, 9]), (u'225529', [25, 29, 67, 38, 64, 6, 0, 42, 85, 39, 37, 2, 14, 18, 2, 73, 82, 2, 0, 125, 240, 21, 39, 3, 23, 2, 17, 68, 32, 29, 45, 20]), (u'485488', [1, 1, 12, 0, 0, 7, 3, 0, 5, 0, 1, 4, 0, 0, 5, 0, 0, 5, 5, 0, 1, 3, 0, 2, 1, 3, 5, 5, 0, 1, 3, 3])]\n"
     ]
    }
   ],
   "source": [
    "ID = 0\n",
    "TEXT = 9\n",
    "R = 4\n",
    "B = 8\n",
    "\n",
    "trainRDD = sc.textFile(\"train_sin_repeticiones.csv\").map(lambda line: line.split(\",\"))\n",
    "\n",
    "trainRDD = trainRDD.filter(lambda line: line[ID] != \"Id\")\n",
    "\n",
    "trainRDD = trainRDD.map(lambda line: (line[ID], shingles(line[TEXT],SHINGLES_LEN)))\n",
    "\n",
    "trainRDD = trainRDD.map(lambda line: (line[0], [ minhash(line[1], i) for i in xrange(0, R*B) ] )).take(5)\n",
    "\n",
    "print trainRDD\n"
   ]
  },
  {
   "cell_type": "code",
   "execution_count": 3,
   "metadata": {
    "collapsed": false
   },
   "outputs": [
    {
     "name": "stdout",
     "output_type": "stream",
     "text": [
      "Adding record:492346 to LSH at POS:57\n",
      "table 0 :[u'492346']\n",
      "Adding record:492346 to LSH at POS:68\n",
      "table 1 :[u'492346']\n",
      "Adding record:492346 to LSH at POS:7\n",
      "table 2 :[u'492346']\n",
      "Adding record:492346 to LSH at POS:87\n",
      "table 3 :[u'492346']\n",
      "Adding record:492346 to LSH at POS:42\n",
      "table 4 :[u'492346']\n",
      "Adding record:492346 to LSH at POS:38\n",
      "table 5 :[u'492346']\n",
      "Adding record:492346 to LSH at POS:31\n",
      "table 6 :[u'492346']\n",
      "Adding record:492346 to LSH at POS:53\n",
      "table 7 :[u'492346']\n",
      "Adding record:343811 to LSH at POS:46\n",
      "table 0 :[u'343811']\n",
      "Adding record:343811 to LSH at POS:40\n",
      "table 1 :[u'343811']\n",
      "Adding record:343811 to LSH at POS:50\n",
      "table 2 :[u'343811']\n",
      "Adding record:343811 to LSH at POS:51\n",
      "table 3 :[u'343811']\n",
      "Adding record:343811 to LSH at POS:93\n",
      "table 4 :[u'343811']\n",
      "Adding record:343811 to LSH at POS:89\n",
      "table 5 :[u'343811']\n",
      "Adding record:343811 to LSH at POS:21\n",
      "table 6 :[u'343811']\n",
      "Adding record:343811 to LSH at POS:56\n",
      "table 7 :[u'343811']\n",
      "Adding record:347257 to LSH at POS:44\n",
      "table 0 :[u'347257']\n",
      "Adding record:347257 to LSH at POS:17\n",
      "table 1 :[u'347257']\n",
      "Adding record:347257 to LSH at POS:77\n",
      "table 2 :[u'347257']\n",
      "Adding record:347257 to LSH at POS:48\n",
      "table 3 :[u'347257']\n",
      "Adding record:347257 to LSH at POS:60\n",
      "table 4 :[u'347257']\n",
      "Adding record:347257 to LSH at POS:98\n",
      "table 5 :[u'347257']\n",
      "Adding record:347257 to LSH at POS:41\n",
      "table 6 :[u'347257']\n",
      "Adding record:347257 to LSH at POS:55\n",
      "table 7 :[u'347257']\n",
      "Adding record:225529 to LSH at POS:32\n",
      "table 0 :[u'225529']\n",
      "Adding record:225529 to LSH at POS:6\n",
      "table 1 :[u'225529']\n",
      "Adding record:225529 to LSH at POS:97\n",
      "table 2 :[u'225529']\n",
      "Adding record:225529 to LSH at POS:1\n",
      "table 3 :[u'225529']\n",
      "Adding record:225529 to LSH at POS:80\n",
      "table 4 :[u'225529']\n",
      "Adding record:225529 to LSH at POS:12\n",
      "table 5 :[u'225529']\n",
      "Adding record:225529 to LSH at POS:64\n",
      "table 6 :[u'225529']\n",
      "Adding record:225529 to LSH at POS:31\n",
      "table 7 :[u'225529']\n",
      "Adding record:485488 to LSH at POS:83\n",
      "table 0 :[u'485488']\n",
      "Adding record:485488 to LSH at POS:81\n",
      "table 1 :[u'485488']\n",
      "Adding record:485488 to LSH at POS:36\n",
      "table 2 :[u'485488']\n",
      "Adding record:485488 to LSH at POS:58\n",
      "table 3 :[u'485488']\n",
      "Adding record:485488 to LSH at POS:28\n",
      "table 4 :[u'485488']\n",
      "Adding record:485488 to LSH at POS:18\n",
      "table 5 :[u'485488']\n",
      "Adding record:485488 to LSH at POS:19\n",
      "table 6 :[u'485488']\n",
      "Adding record:485488 to LSH at POS:7\n",
      "table 7 :[u'485488']\n"
     ]
    }
   ],
   "source": [
    "from LSH import LSH\n",
    "from Record import Record\n",
    "\n",
    "lsh = LSH(R,B)\n",
    "\n",
    "for i in xrange(len(trainRDD)):\n",
    "    record = Record((trainRDD[i][0], trainRDD[i][1]))\n",
    "    lsh.add(record)\n"
   ]
  },
  {
   "cell_type": "code",
   "execution_count": 4,
   "metadata": {
    "collapsed": true
   },
   "outputs": [],
   "source": [
    "text = \"i got them in a very timely manner and they're all very large and green. there seems to be an inordinate amount of the seeds e out a weird beige color, but it still tastes great and is a much better deal than any of the indian markets in town. cheers to frontier.\"\n",
    "test = (492346,shingles(text,4))\n",
    "test = (test[0], [ minhash(test[1], i) for i in xrange(0, R*B)] )\n",
    "testRecord = Record(test)"
   ]
  },
  {
   "cell_type": "code",
   "execution_count": 5,
   "metadata": {
    "collapsed": false
   },
   "outputs": [
    {
     "name": "stdout",
     "output_type": "stream",
     "text": [
      "obtained pos:26 for record (<bound method Record.id of <Record.Record instance at 0x7f5e883ff170>>,[1, 0, 1, 0, 1, 1, 2, 1, 0, 5, 2, 1, 0, 0, 0, 1, 0, 0, 0, 1, 1, 0, 1, 3, 0, 0, 0, 0, 1, 0, 2, 2])at table 0\n",
      "obtained pos:49 for record (<bound method Record.id of <Record.Record instance at 0x7f5e883ff170>>,[1, 0, 1, 0, 1, 1, 2, 1, 0, 5, 2, 1, 0, 0, 0, 1, 0, 0, 0, 1, 1, 0, 1, 3, 0, 0, 0, 0, 1, 0, 2, 2])at table 1\n",
      "obtained pos:10 for record (<bound method Record.id of <Record.Record instance at 0x7f5e883ff170>>,[1, 0, 1, 0, 1, 1, 2, 1, 0, 5, 2, 1, 0, 0, 0, 1, 0, 0, 0, 1, 1, 0, 1, 3, 0, 0, 0, 0, 1, 0, 2, 2])at table 2\n",
      "obtained pos:60 for record (<bound method Record.id of <Record.Record instance at 0x7f5e883ff170>>,[1, 0, 1, 0, 1, 1, 2, 1, 0, 5, 2, 1, 0, 0, 0, 1, 0, 0, 0, 1, 1, 0, 1, 3, 0, 0, 0, 0, 1, 0, 2, 2])at table 3\n",
      "obtained pos:16 for record (<bound method Record.id of <Record.Record instance at 0x7f5e883ff170>>,[1, 0, 1, 0, 1, 1, 2, 1, 0, 5, 2, 1, 0, 0, 0, 1, 0, 0, 0, 1, 1, 0, 1, 3, 0, 0, 0, 0, 1, 0, 2, 2])at table 4\n",
      "obtained pos:69 for record (<bound method Record.id of <Record.Record instance at 0x7f5e883ff170>>,[1, 0, 1, 0, 1, 1, 2, 1, 0, 5, 2, 1, 0, 0, 0, 1, 0, 0, 0, 1, 1, 0, 1, 3, 0, 0, 0, 0, 1, 0, 2, 2])at table 5\n",
      "obtained pos:0 for record (<bound method Record.id of <Record.Record instance at 0x7f5e883ff170>>,[1, 0, 1, 0, 1, 1, 2, 1, 0, 5, 2, 1, 0, 0, 0, 1, 0, 0, 0, 1, 1, 0, 1, 3, 0, 0, 0, 0, 1, 0, 2, 2])at table 6\n",
      "obtained pos:52 for record (<bound method Record.id of <Record.Record instance at 0x7f5e883ff170>>,[1, 0, 1, 0, 1, 1, 2, 1, 0, 5, 2, 1, 0, 0, 0, 1, 0, 0, 0, 1, 1, 0, 1, 3, 0, 0, 0, 0, 1, 0, 2, 2])at table 7\n",
      "[]\n"
     ]
    }
   ],
   "source": [
    "print lsh.getAllSimilarRecords(testRecord)"
   ]
  },
  {
   "cell_type": "code",
   "execution_count": 4,
   "metadata": {
    "collapsed": false
   },
   "outputs": [
    {
     "name": "stdout",
     "output_type": "stream",
     "text": [
      "(492346, [1, 0, 1, 0, 1, 1, 2, 1, 0, 5, 2, 1, 0, 0, 0, 1, 0, 0, 0, 1, 1, 0, 1, 3, 0, 0, 0, 0, 1, 0, 2, 2])\n",
      "(492346, [1, 0, 1, 0, 1, 1, 2, 1, 0, 5, 2, 1, 0, 0, 0, 1, 0, 0, 0, 1, 1, 0, 1, 3, 0, 0, 0, 0, 1, 0, 2, 2])\n"
     ]
    }
   ],
   "source": [
    "\n"
   ]
  }
 ],
 "metadata": {
  "kernelspec": {
   "display_name": "pySpark",
   "language": "python",
   "name": "pyspark"
  },
  "language_info": {
   "codemirror_mode": {
    "name": "ipython",
    "version": 2
   },
   "file_extension": ".py",
   "mimetype": "text/x-python",
   "name": "python",
   "nbconvert_exporter": "python",
   "pygments_lexer": "ipython2",
   "version": "2.7.6"
  }
 },
 "nbformat": 4,
 "nbformat_minor": 1
}
