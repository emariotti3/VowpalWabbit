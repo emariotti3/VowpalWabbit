{
 "cells": [
  {
   "cell_type": "code",
   "execution_count": 1,
   "metadata": {
    "collapsed": false
   },
   "outputs": [],
   "source": [
    "import csv\n",
    "import pandas\n",
    "import numpy\n",
    "import random\n",
    "from CWHashingFamily import CWHashingFamily\n",
    "\n",
    "SHINGLES_LEN = 4\n",
    "PRIME = 997\n",
    "BINS = 900\n",
    "\n",
    "def shingles(text, shingleSize):\n",
    "    return [text[i:i+shingleSize] for i in xrange(0,len(text)-(shingleSize+1))]\n",
    "\n",
    "\n",
    "def minhash(shinglesList, seed):\n",
    "    random.seed(seed)\n",
    "    minhash = -1\n",
    "    for shingle in shinglesList:\n",
    "        cwFactory = CWHashingFamily(BINS, PRIME)\n",
    "        numericHash = cwFactory.numericFunction(random.randrange(1,PRIME), random.randrange(0,PRIME))\n",
    "        stringHash = cwFactory.stringFunction(random.randrange(0,PRIME),numericHash)\n",
    "        shHash = stringHash.hash(shingle)\n",
    "        if ((minhash == -1) or (shHash < minhash)):\n",
    "            minhash = shHash\n",
    "    return minhash"
   ]
  },
  {
   "cell_type": "code",
   "execution_count": 11,
   "metadata": {
    "collapsed": false
   },
   "outputs": [
    {
     "name": "stdout",
     "output_type": "stream",
     "text": [
      "[['492346', 'B001VNP0Y6', 'AEZRVY3CV52UZ', 'Corey Wright Democratus', '3', '3', '5', '1320537600', 'just what i needed', \"i got them in a very timely manner and they're all very large and green. there seems to be an inordinate amount of the seeds e out a weird beige color, but it still tastes great and is a much better deal than any of the indian markets in town. cheers to frontier.\"], ['343811', 'B008J1HO4C', 'A18VZYSLOUO060', 'D. Simpson Frugal SOB', '2', '2', '5', '1204329600', 'most excellent oatmeal', \"mccann's steel cut oatmeal is the perfect breakfast for people in a hurry.  all you do is put 1/2 cup of oats in a little crockpot with 2 cups of boiling water before you go to bed, then an hour before i get up the crockpot starts on high on a timer so when i get out of the shower the oatmeal is ready to go.  just mix in some blueberries, raisins, craisins, dates, nuts or whatever you want and eat.\"]]\n"
     ]
    }
   ],
   "source": [
    "\n",
    "ID = 0\n",
    "TEXT = 9\n",
    "R = 4\n",
    "B = 8\n",
    "\n",
    "#trainRDD = sc.textFile(\"train_sin_repeticiones.csv\").map(lambda line: line.split(\",\"))\n",
    "trainRDD = sc.textFile(\"train_sin_repeticiones.csv\").mapPartitions(lambda x: csv.reader(x))\n",
    "\n",
    "#sql = SQLContext(sc)\n",
    "#trainRDD = sc.read.option(\"header\", \"true\").csv(\"train_sin_repeticiones.csv\")\n",
    "\n",
    "trainRDD = trainRDD.filter(lambda line: line[ID] != \"Id\")\n",
    "\n",
    "print trainRDD.take(2)\n",
    "\n",
    "trainRDD = trainRDD.map(lambda line: (line[ID], shingles(line[TEXT],SHINGLES_LEN)))\n",
    "\n",
    "\n",
    "trainRDD = trainRDD.map(lambda line: (line[0], [ minhash(line[1], i) for i in xrange(0, R*B) ] )).take(5)\n",
    "\n",
    "#print trainRDD\n"
   ]
  },
  {
   "cell_type": "code",
   "execution_count": 44,
   "metadata": {
    "collapsed": false
   },
   "outputs": [
    {
     "name": "stdout",
     "output_type": "stream",
     "text": [
      "Adding record:492346 to LSH at POS:26\n",
      "table 0 :['492346']\n",
      "Adding record:492346 to LSH at POS:49\n",
      "table 1 :['492346']\n",
      "Adding record:492346 to LSH at POS:10\n",
      "table 2 :['492346']\n",
      "Adding record:492346 to LSH at POS:60\n",
      "table 3 :['492346']\n",
      "Adding record:492346 to LSH at POS:16\n",
      "table 4 :['492346']\n",
      "Adding record:492346 to LSH at POS:69\n",
      "table 5 :['492346']\n",
      "Adding record:492346 to LSH at POS:0\n",
      "table 6 :['492346']\n",
      "Adding record:492346 to LSH at POS:52\n",
      "table 7 :['492346']\n",
      "Adding record:343811 to LSH at POS:20\n",
      "table 0 :['343811']\n",
      "Adding record:343811 to LSH at POS:10\n",
      "table 1 :['343811']\n",
      "Adding record:343811 to LSH at POS:0\n",
      "table 2 :['343811']\n",
      "Adding record:343811 to LSH at POS:8\n",
      "table 3 :['343811']\n",
      "Adding record:343811 to LSH at POS:24\n",
      "table 4 :['343811']\n",
      "Adding record:343811 to LSH at POS:36\n",
      "table 5 :['343811']\n",
      "Adding record:343811 to LSH at POS:96\n",
      "table 6 :['343811']\n",
      "Adding record:343811 to LSH at POS:8\n",
      "table 7 :['343811']\n",
      "Adding record:347257 to LSH at POS:78\n",
      "table 0 :['347257']\n",
      "Adding record:347257 to LSH at POS:51\n",
      "table 1 :['347257']\n",
      "Adding record:347257 to LSH at POS:94\n",
      "table 2 :['347257']\n",
      "Adding record:347257 to LSH at POS:33\n",
      "table 3 :['347257']\n",
      "Adding record:347257 to LSH at POS:1\n",
      "table 4 :['347257']\n",
      "Adding record:347257 to LSH at POS:26\n",
      "table 5 :['347257']\n",
      "Adding record:347257 to LSH at POS:90\n",
      "table 7 :['347257']\n",
      "Adding record:225529 to LSH at POS:65\n",
      "table 1 :['225529']\n",
      "Adding record:225529 to LSH at POS:31\n",
      "table 2 :['225529']\n",
      "Adding record:225529 to LSH at POS:3\n",
      "table 3 :['225529']\n",
      "Adding record:225529 to LSH at POS:41\n",
      "table 4 :['225529']\n",
      "Adding record:225529 to LSH at POS:56\n",
      "table 5 :['225529']\n",
      "Adding record:225529 to LSH at POS:52\n",
      "table 6 :['225529']\n",
      "Adding record:225529 to LSH at POS:80\n",
      "table 7 :['225529']\n",
      "Adding record:485488 to LSH at POS:84\n",
      "table 0 :['485488']\n",
      "Adding record:485488 to LSH at POS:70\n",
      "table 1 :['485488']\n",
      "Adding record:485488 to LSH at POS:34\n",
      "table 2 :['485488']\n",
      "Adding record:485488 to LSH at POS:72\n",
      "table 3 :['485488']\n",
      "Adding record:485488 to LSH at POS:52\n",
      "table 4 :['485488']\n",
      "Adding record:485488 to LSH at POS:50\n",
      "table 5 :['485488']\n",
      "Adding record:485488 to LSH at POS:74\n",
      "table 6 :['485488']\n",
      "Adding record:485488 to LSH at POS:11\n",
      "table 7 :['485488']\n"
     ]
    }
   ],
   "source": [
    "from LSH import LSH\n",
    "from Record import Record\n",
    "\n",
    "lsh = LSH(R,B)\n",
    "\n",
    "for i in xrange(len(trainRDD)):\n",
    "    record = Record((trainRDD[i][0], trainRDD[i][1]))\n",
    "    lsh.add(record)\n"
   ]
  },
  {
   "cell_type": "code",
   "execution_count": 50,
   "metadata": {
    "collapsed": false
   },
   "outputs": [
    {
     "name": "stdout",
     "output_type": "stream",
     "text": [
      "(492346, ['\"i g', 'i go', ' got', 'got ', 'ot t', 't th', ' the', 'them', 'hem ', 'em i', 'm in', ' in ', 'in a', 'n a ', ' a v', 'a ve', ' ver', 'very', 'ery ', 'ry t', 'y ti', ' tim', 'time', 'imel', 'mely', 'ely ', 'ly m', 'y ma', ' man', 'mann', 'anne', 'nner', 'ner ', 'er a', 'r an', ' and', 'and ', 'nd t', 'd th', ' the', 'they', \"hey'\", \"ey'r\", \"y're\", \"'re \", 're a', 'e al', ' all', 'all ', 'll v', 'l ve', ' ver', 'very', 'ery ', 'ry l', 'y la', ' lar', 'larg', 'arge', 'rge ', 'ge a', 'e an', ' and', 'and ', 'nd g', 'd gr', ' gre', 'gree', 'reen', 'een.', 'en. ', 'n. t', '. th', ' the', 'ther', 'here', 'ere ', 're s', 'e se', ' see', 'seem', 'eems', 'ems ', 'ms t', 's to', ' to ', 'to b', 'o be', ' be ', 'be a', 'e an', ' an ', 'an i', 'n in', ' ino', 'inor', 'nord', 'ordi', 'rdin', 'dina', 'inat', 'nate', 'ate ', 'te a', 'e am', ' amo', 'amou', 'moun', 'ount', 'unt ', 'nt o', 't of', ' of ', 'of t', 'f th', ' the', 'the ', 'he s', 'e se', ' see', 'seed', 'eeds', 'eds ', 'ds e', 's e ', ' e o', 'e ou', ' out', 'out ', 'ut a', 't a ', ' a w', 'a we', ' wei', 'weir', 'eird', 'ird ', 'rd b', 'd be', ' bei', 'beig', 'eige', 'ige ', 'ge c', 'e co', ' col'])\n",
      "(492346, [3, 2, 0, 9, 1, 0, 1, 3, 6, 0, 0, 5, 14, 9, 0, 0, 0, 0, 7, 1, 3, 0, 1, 0, 2, 0, 0, 0, 3, 2, 0, 3])\n"
     ]
    }
   ],
   "source": [
    "shinglesText = ['\"i g', 'i go', ' got', 'got ', 'ot t', 't th', ' the', 'them', 'hem ', 'em i', 'm in', ' in ', 'in a', 'n a ', ' a v', 'a ve', ' ver', 'very', 'ery ', 'ry t', 'y ti', ' tim', 'time', 'imel', 'mely', 'ely ', 'ly m', 'y ma', ' man', 'mann', 'anne', 'nner', 'ner ', 'er a', 'r an', ' and', 'and ', 'nd t', 'd th', ' the', 'they', \"hey'\", \"ey'r\", \"y're\", \"'re \", 're a', 'e al', ' all', 'all ', 'll v', 'l ve', ' ver', 'very', 'ery ', 'ry l', 'y la', ' lar', 'larg', 'arge', 'rge ', 'ge a', 'e an', ' and', 'and ', 'nd g', 'd gr', ' gre', 'gree', 'reen', 'een.', 'en. ', 'n. t', '. th', ' the', 'ther', 'here', 'ere ', 're s', 'e se', ' see', 'seem', 'eems', 'ems ', 'ms t', 's to', ' to ', 'to b', 'o be', ' be ', 'be a', 'e an', ' an ', 'an i', 'n in', ' ino', 'inor', 'nord', 'ordi', 'rdin', 'dina', 'inat', 'nate', 'ate ', 'te a', 'e am', ' amo', 'amou', 'moun', 'ount', 'unt ', 'nt o', 't of', ' of ', 'of t', 'f th', ' the', 'the ', 'he s', 'e se', ' see', 'seed', 'eeds', 'eds ', 'ds e', 's e ', ' e o', 'e ou', ' out', 'out ', 'ut a', 't a ', ' a w', 'a we', ' wei', 'weir', 'eird', 'ird ', 'rd b', 'd be', ' bei', 'beig', 'eige', 'ige ', 'ge c', 'e co', ' col']\n",
    "test = (492346,shinglesText)\n",
    "print test\n",
    "test = (test[0], [ minhash(test[1], i) for i in xrange(0, R*B) ])\n",
    "testRecord = Record(test)\n",
    "print test\n",
    "\n"
   ]
  },
  {
   "cell_type": "code",
   "execution_count": 51,
   "metadata": {
    "collapsed": false
   },
   "outputs": [
    {
     "name": "stdout",
     "output_type": "stream",
     "text": [
      "obtained pos:26 for record (492346,[1, 0, 1, 0, 1, 1, 2, 1, 0, 5, 2, 1, 0, 0, 0, 1, 0, 0, 0, 1, 1, 0, 1, 3, 0, 0, 0, 0, 1, 0, 2, 2])at table 0\n",
      "Getting records from POS:26 from: ['492346', '225529']\n",
      "obtained pos:49 for record (492346,[1, 0, 1, 0, 1, 1, 2, 1, 0, 5, 2, 1, 0, 0, 0, 1, 0, 0, 0, 1, 1, 0, 1, 3, 0, 0, 0, 0, 1, 0, 2, 2])at table 1\n",
      "Getting records from POS:49 from: ['492346']\n",
      "obtained pos:10 for record (492346,[1, 0, 1, 0, 1, 1, 2, 1, 0, 5, 2, 1, 0, 0, 0, 1, 0, 0, 0, 1, 1, 0, 1, 3, 0, 0, 0, 0, 1, 0, 2, 2])at table 2\n",
      "Getting records from POS:10 from: ['492346']\n",
      "obtained pos:60 for record (492346,[1, 0, 1, 0, 1, 1, 2, 1, 0, 5, 2, 1, 0, 0, 0, 1, 0, 0, 0, 1, 1, 0, 1, 3, 0, 0, 0, 0, 1, 0, 2, 2])at table 3\n",
      "Getting records from POS:60 from: ['492346']\n",
      "obtained pos:16 for record (492346,[1, 0, 1, 0, 1, 1, 2, 1, 0, 5, 2, 1, 0, 0, 0, 1, 0, 0, 0, 1, 1, 0, 1, 3, 0, 0, 0, 0, 1, 0, 2, 2])at table 4\n",
      "Getting records from POS:16 from: ['492346']\n",
      "obtained pos:69 for record (492346,[1, 0, 1, 0, 1, 1, 2, 1, 0, 5, 2, 1, 0, 0, 0, 1, 0, 0, 0, 1, 1, 0, 1, 3, 0, 0, 0, 0, 1, 0, 2, 2])at table 5\n",
      "Getting records from POS:69 from: ['492346']\n",
      "obtained pos:0 for record (492346,[1, 0, 1, 0, 1, 1, 2, 1, 0, 5, 2, 1, 0, 0, 0, 1, 0, 0, 0, 1, 1, 0, 1, 3, 0, 0, 0, 0, 1, 0, 2, 2])at table 6\n",
      "Getting records from POS:0 from: ['492346']\n",
      "obtained pos:52 for record (492346,[1, 0, 1, 0, 1, 1, 2, 1, 0, 5, 2, 1, 0, 0, 0, 1, 0, 0, 0, 1, 1, 0, 1, 3, 0, 0, 0, 0, 1, 0, 2, 2])at table 7\n",
      "Getting records from POS:52 from: ['492346']\n",
      "['492346', '225529', '492346', '492346', '492346', '492346', '492346', '492346', '492346']\n"
     ]
    }
   ],
   "source": [
    "print lsh.getAllSimilarRecords(testRecord)"
   ]
  },
  {
   "cell_type": "code",
   "execution_count": 8,
   "metadata": {
    "collapsed": false
   },
   "outputs": [
    {
     "name": "stdout",
     "output_type": "stream",
     "text": [
      "4\n",
      "3\n",
      "4\n",
      "3\n",
      "1\n",
      "10\n",
      "10\n",
      "1\n"
     ]
    }
   ],
   "source": []
  }
 ],
 "metadata": {
  "kernelspec": {
   "display_name": "pySpark",
   "language": "python",
   "name": "pyspark"
  },
  "language_info": {
   "codemirror_mode": {
    "name": "ipython",
    "version": 2
   },
   "file_extension": ".py",
   "mimetype": "text/x-python",
   "name": "python",
   "nbconvert_exporter": "python",
   "pygments_lexer": "ipython2",
   "version": "2.7.6"
  }
 },
 "nbformat": 4,
 "nbformat_minor": 1
}
