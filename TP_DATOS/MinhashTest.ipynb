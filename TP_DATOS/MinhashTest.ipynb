{
 "cells": [
  {
   "cell_type": "code",
   "execution_count": 1,
   "metadata": {
    "collapsed": false
   },
   "outputs": [],
   "source": [
    "import csv\n",
    "import pandas\n",
    "import numpy\n",
    "import random\n",
    "from CWHashingFamily import CWHashingFamily\n",
    "\n",
    "SHINGLES_LEN = 4\n",
    "PRIME = 997\n",
    "BINS = 900\n",
    "\n",
    "def shingles(text, shingleSize):\n",
    "    return [text[i:i+shingleSize] for i in xrange(0,len(text)-(shingleSize+1))]\n",
    "\n",
    "\n",
    "def minhash(shinglesList, seed):\n",
    "    random.seed(seed)\n",
    "    minhash = -1\n",
    "    for shingle in shinglesList:\n",
    "        cwFactory = CWHashingFamily(BINS, PRIME)\n",
    "        numericHash = cwFactory.numericFunction(random.randrange(1,PRIME), random.randrange(0,PRIME))\n",
    "        stringHash = cwFactory.stringFunction(random.randrange(0,PRIME),numericHash)\n",
    "        shHash = stringHash.hash(shingle)\n",
    "        if ((minhash == -1) or (shHash < minhash)):\n",
    "            minhash = shHash\n",
    "    return minhash"
   ]
  },
  {
   "cell_type": "code",
   "execution_count": 2,
   "metadata": {
    "collapsed": false
   },
   "outputs": [
    {
     "name": "stdout",
     "output_type": "stream",
     "text": [
      "[('492346', [1, 0, 1, 0, 1, 1, 2, 1, 0, 5, 2, 1, 0, 0, 0, 1, 0, 0, 0, 1, 1, 0, 1, 3, 0, 0, 0, 0, 1, 0, 2, 2]), ('343811', [0, 5, 1, 2, 0, 1, 0, 1, 0, 0, 0, 0, 0, 2, 0, 0, 1, 0, 0, 0, 1, 1, 0, 0, 5, 1, 0, 0, 1, 5, 0, 0]), ('347257', [0, 5, 3, 1, 0, 3, 0, 1, 3, 1, 7, 3, 2, 1, 3, 2, 2, 3, 3, 0, 2, 1, 0, 3, 5, 1, 0, 0, 1, 5, 7, 1]), ('225529', [1, 0, 1, 0, 4, 1, 10, 0, 3, 0, 0, 0, 3, 0, 3, 2, 1, 3, 3, 4, 0, 0, 4, 1, 0, 0, 0, 2, 0, 0, 0, 10]), ('485488', [1, 0, 0, 0, 5, 0, 0, 0, 0, 4, 2, 0, 3, 0, 0, 0, 3, 0, 0, 5, 0, 4, 5, 1, 0, 4, 0, 0, 0, 0, 2, 1])]\n"
     ]
    }
   ],
   "source": [
    "ID = 0\n",
    "TEXT = 9\n",
    "R = 4\n",
    "B = 8\n",
    "\n",
    "trainRDD = sc.textFile(\"train_sin_repeticiones.csv\").mapPartitions(lambda x: csv.reader(x))\n",
    "\n",
    "trainRDD = trainRDD.filter(lambda line: line[ID] != \"Id\")\n",
    "\n",
    "trainRDD = trainRDD.map(lambda line: (line[ID], shingles(line[TEXT],SHINGLES_LEN)))\n",
    "\n",
    "trainRDD = trainRDD.map(lambda line: (line[0], [ minhash(line[1], i) for i in xrange(0, R*B) ] )).take(5)\n",
    "\n",
    "print trainRDD\n"
   ]
  },
  {
   "cell_type": "code",
   "execution_count": 3,
   "metadata": {
    "collapsed": false
   },
   "outputs": [],
   "source": [
    "from LSH import LSH\n",
    "from Record import Record\n",
    "\n",
    "lsh = LSH(R,B)\n",
    "\n",
    "for i in xrange(len(trainRDD)):\n",
    "    record = Record((trainRDD[i][0], trainRDD[i][1]))\n",
    "    lsh.add(record)\n"
   ]
  },
  {
   "cell_type": "code",
   "execution_count": 4,
   "metadata": {
    "collapsed": false
   },
   "outputs": [],
   "source": [
    "shinglesText = \"i got them in a very timely manner and they're all very large and green. there seems to be an inordinate amount of the seeds e out a weird beige color, but it still tastes great and is a much better deal than any of the indian markets in town. cheers to frontier.\"\n",
    "test = (492346,shingles(shinglesText,SHINGLES_LEN))\n",
    "test = (test[0], [ minhash(test[1], i) for i in xrange(0, R*B) ])\n",
    "testRecord = Record(test)"
   ]
  },
  {
   "cell_type": "code",
   "execution_count": 5,
   "metadata": {
    "collapsed": false
   },
   "outputs": [
    {
     "name": "stdout",
     "output_type": "stream",
     "text": [
      "[225529]\n"
     ]
    }
   ],
   "source": [
    "print lsh.getAllSimilarRecords(testRecord)"
   ]
  }
 ],
 "metadata": {
  "kernelspec": {
   "display_name": "pySpark",
   "language": "python",
   "name": "pyspark"
  },
  "language_info": {
   "codemirror_mode": {
    "name": "ipython",
    "version": 2
   },
   "file_extension": ".py",
   "mimetype": "text/x-python",
   "name": "python",
   "nbconvert_exporter": "python",
   "pygments_lexer": "ipython2",
   "version": "2.7.6"
  }
 },
 "nbformat": 4,
 "nbformat_minor": 1
}
