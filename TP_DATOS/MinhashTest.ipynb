{
 "cells": [
  {
   "cell_type": "code",
   "execution_count": 1,
   "metadata": {
    "collapsed": false
   },
   "outputs": [],
   "source": [
    "import csv\n",
    "import itertools\n",
    "import numpy\n",
    "import random\n",
    "from CWHashingFamily import CWHashingFamily\n",
    "\n",
    "SHINGLES_LEN = 4\n",
    "PRIME = 997\n",
    "BINS = 900\n",
    "\n",
    "def shingles(text, shingleSize):\n",
    "    return [text[i:i+shingleSize] for i in xrange(0,len(text)-(shingleSize+1))]\n",
    "\n",
    "\n",
    "def minhash(shinglesList, seed):\n",
    "    random.seed(seed)\n",
    "    minhash = -1\n",
    "    for shingle in shinglesList:\n",
    "        cwFactory = CWHashingFamily(BINS, PRIME)\n",
    "        numericHash = cwFactory.numericFunction(random.randrange(1,PRIME), random.randrange(0,PRIME))\n",
    "        stringHash = cwFactory.stringFunction(random.randrange(0,PRIME),numericHash)\n",
    "        shHash = stringHash.hash(shingle)\n",
    "        if ((minhash == -1) or (shHash < minhash)):\n",
    "            minhash = shHash\n",
    "    return minhash"
   ]
  },
  {
   "cell_type": "code",
   "execution_count": 3,
   "metadata": {
    "collapsed": false
   },
   "outputs": [
    {
     "name": "stdout",
     "output_type": "stream",
     "text": [
      "[(u'492346', [7, 0, 2, 0, 4, 1, 21, 4, 6, 2, 0, 1, 2, 2, 0, 0, 3, 8, 0, 0, 6, 6, 1, 0, 0, 2, 0, 4, 2, 0, 0, 0]), (u'343811', [6, 2, 0, 2, 0, 2, 3, 0, 0, 4, 3, 4, 7, 0, 2, 11, 1, 0, 6, 8, 1, 1, 3, 0, 2, 0, 0, 12, 1, 1, 6, 4]), (u'347257', [1, 28, 13, 19, 0, 10, 0, 1, 3, 23, 15, 6, 17, 1, 19, 24, 3, 4, 0, 31, 14, 5, 0, 6, 10, 9, 2, 2, 2, 7, 0, 4]), (u'225529', [48, 87, 96, 49, 67, 13, 11, 11, 14, 15, 43, 42, 26, 55, 0, 203, 59, 17, 17, 7, 73, 10, 38, 41, 43, 99, 20, 77, 75, 93, 69, 14]), (u'485488', [0, 1, 0, 2, 4, 4, 5, 0, 1, 2, 0, 1, 1, 2, 2, 6, 9, 2, 1, 0, 0, 0, 9, 1, 4, 4, 2, 5, 6, 5, 0, 2]), (u'74981', [12, 0, 1, 3, 2, 1, 0, 3, 0, 2, 0, 4, 1, 0, 0, 8, 1, 2, 1, 3, 2, 1, 10, 1, 0, 1, 0, 0, 1, 0, 0, 5]), (u'204180', [1, 10, 0, 0, 2, 0, 6, 2, 2, 4, 0, 1, 1, 1, 1, 0, 7, 3, 10, 1, 3, 3, 1, 3, 0, 0, 2, 0, 0, 1, 0, 1]), (u'454372', [1, 0, 0, 1, 2, 0, 0, 1, 4, 2, 4, 0, 2, 4, 1, 0, 5, 0, 6, 0, 14, 0, 0, 2, 0, 4, 2, 2, 3, 11, 2, 0]), (u'112235', [17, 2, 6, 1, 17, 1, 16, 4, 24, 5, 5, 22, 7, 3, 2, 18, 23, 9, 9, 23, 24, 16, 4, 3, 10, 12, 1, 3, 19, 2, 5, 2]), (u'295251', [2, 2, 3, 3, 4, 0, 5, 4, 6, 6, 11, 9, 2, 30, 8, 2, 0, 1, 2, 16, 2, 4, 3, 10, 3, 25, 4, 22, 16, 3, 3, 9])]\n"
     ]
    }
   ],
   "source": [
    "ID = 0\n",
    "TEXT = 9\n",
    "R = 4\n",
    "B = 8\n",
    "\n",
    "trainRDD = sc.textFile(\"train_sin_repeticiones.csv\").map(lambda line: line.split(\",\"))\n",
    "\n",
    "trainRDD = trainRDD.filter(lambda line: line[ID] != \"Id\")\n",
    "\n",
    "trainRDD = trainRDD.map(lambda line: (line[ID], shingles(line[TEXT],SHINGLES_LEN)))\n",
    "\n",
    "trainRDD = trainRDD.map(lambda line: (line[0], [ minhash(line[1], i) for i in xrange(0, R*B) ] ))\n",
    "\n",
    "print trainRDD.take(10)\n"
   ]
  },
  {
   "cell_type": "code",
   "execution_count": 4,
   "metadata": {
    "collapsed": false
   },
   "outputs": [],
   "source": [
    "from LSH import LSH\n",
    "from Record import Record\n",
    "\n",
    "lsh = LSH(R,B)\n",
    "\n",
    "records = trainRDD.flatMap(lambda line: [lsh.add(Record(line))])\n"
   ]
  },
  {
   "cell_type": "code",
   "execution_count": 5,
   "metadata": {
    "collapsed": true
   },
   "outputs": [],
   "source": [
    "text = \"for about 5 years, especially during the winter months, i used e down with several very painful sore throats, many of which would escalate into strep throat or a sinus infection.  i haven't had one since i started drinking kukicha tea 2 years ago.  it's isn't carried in many stores so i'm glad i can get it through amazon now and that it's eligible for free shipping.i'm not a doctor and this isn't medical advice, but if you are having a problem with sore throats this is worth a shot.\"\n",
    "test = (459662,shingles(text,4))\n",
    "test = (test[0], [ minhash(test[1], i) for i in xrange(0, R*B) ] )\n",
    "testRecord = Record(test)"
   ]
  },
  {
   "cell_type": "code",
   "execution_count": 6,
   "metadata": {
    "collapsed": false
   },
   "outputs": [
    {
     "ename": "IndexError",
     "evalue": "list index out of range",
     "output_type": "error",
     "traceback": [
      "\u001b[0;31m---------------------------------------------------------------------------\u001b[0m",
      "\u001b[0;31mIndexError\u001b[0m                                Traceback (most recent call last)",
      "\u001b[0;32m<ipython-input-6-15823cb36bcb>\u001b[0m in \u001b[0;36m<module>\u001b[0;34m()\u001b[0m\n\u001b[0;32m----> 1\u001b[0;31m \u001b[0;32mprint\u001b[0m \u001b[0mlsh\u001b[0m\u001b[0;34m.\u001b[0m\u001b[0mgetAllSimilarRecords\u001b[0m\u001b[0;34m(\u001b[0m\u001b[0mtestRecord\u001b[0m\u001b[0;34m)\u001b[0m\u001b[0;34m\u001b[0m\u001b[0m\n\u001b[0m",
      "\u001b[0;32m/home/eugenia/VowpalWabbit/TP_DATOS/LSH.py\u001b[0m in \u001b[0;36mgetAllSimilarRecords\u001b[0;34m(self, record)\u001b[0m\n\u001b[1;32m     36\u001b[0m         \u001b[0;31m#Receives a record to be added to the LSH object.\u001b[0m\u001b[0;34m\u001b[0m\u001b[0;34m\u001b[0m\u001b[0m\n\u001b[1;32m     37\u001b[0m         \u001b[0;32mfor\u001b[0m \u001b[0mi\u001b[0m \u001b[0;32min\u001b[0m \u001b[0mxrange\u001b[0m\u001b[0;34m(\u001b[0m\u001b[0;36m1\u001b[0m\u001b[0;34m,\u001b[0m \u001b[0mself\u001b[0m\u001b[0;34m.\u001b[0m\u001b[0mb\u001b[0m \u001b[0;34m+\u001b[0m \u001b[0;36m1\u001b[0m\u001b[0;34m)\u001b[0m\u001b[0;34m:\u001b[0m\u001b[0;34m\u001b[0m\u001b[0m\n\u001b[0;32m---> 38\u001b[0;31m             \u001b[0mgroupHashTable\u001b[0m \u001b[0;34m=\u001b[0m \u001b[0mself\u001b[0m\u001b[0;34m.\u001b[0m\u001b[0mgroupTables\u001b[0m\u001b[0;34m[\u001b[0m\u001b[0mi\u001b[0m\u001b[0;34m]\u001b[0m\u001b[0;34m\u001b[0m\u001b[0m\n\u001b[0m\u001b[1;32m     39\u001b[0m             \u001b[0;31m#Obtain LSH function 'b'= i from lshFamilyFunction.\u001b[0m\u001b[0;34m\u001b[0m\u001b[0;34m\u001b[0m\u001b[0m\n\u001b[1;32m     40\u001b[0m             \u001b[0;31m#which we will use to introduce a new value to the\u001b[0m\u001b[0;34m\u001b[0m\u001b[0;34m\u001b[0m\u001b[0m\n",
      "\u001b[0;31mIndexError\u001b[0m: list index out of range"
     ]
    }
   ],
   "source": [
    "print lsh.getAllSimilarRecords(testRecord)"
   ]
  },
  {
   "cell_type": "code",
   "execution_count": null,
   "metadata": {
    "collapsed": true
   },
   "outputs": [],
   "source": []
  }
 ],
 "metadata": {
  "kernelspec": {
   "display_name": "pySpark",
   "language": "python",
   "name": "pyspark"
  },
  "language_info": {
   "codemirror_mode": {
    "name": "ipython",
    "version": 2
   },
   "file_extension": ".py",
   "mimetype": "text/x-python",
   "name": "python",
   "nbconvert_exporter": "python",
   "pygments_lexer": "ipython2",
   "version": "2.7.6"
  }
 },
 "nbformat": 4,
 "nbformat_minor": 1
}
