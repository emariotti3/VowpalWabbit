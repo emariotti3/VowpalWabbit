{
 "cells": [
  {
   "cell_type": "code",
   "execution_count": 1,
   "metadata": {
    "collapsed": false
   },
   "outputs": [],
   "source": [
    "import csv\n",
    "import itertools\n",
    "import numpy\n",
    "import random\n",
    "from CWHashingFamily import CWHashingFamily\n",
    "\n",
    "SHINGLES_LEN = 4\n",
    "PRIME = 997\n",
    "BINS = 900\n",
    "\n",
    "def shingles(text, shingleSize):\n",
    "    return [text[i:i+shingleSize] for i in xrange(0,len(text)-(shingleSize+1))]\n",
    "\n",
    "\n",
    "def minhash(shinglesList, seed):\n",
    "    random.seed(seed)\n",
    "    minhash = -1\n",
    "    for shingle in shinglesList:\n",
    "        cwFactory = CWHashingFamily(BINS, PRIME)\n",
    "        numericHash = cwFactory.numericFunction(random.randrange(1,PRIME), random.randrange(0,PRIME))\n",
    "        stringHash = cwFactory.stringFunction(random.randrange(0,PRIME),numericHash)\n",
    "        shHash = stringHash.hash(shingle)\n",
    "        if ((minhash == -1) or (shHash < minhash)):\n",
    "            minhash = shHash\n",
    "    return minhash"
   ]
  },
  {
   "cell_type": "code",
   "execution_count": 2,
   "metadata": {
    "collapsed": false
   },
   "outputs": [
    {
     "name": "stdout",
     "output_type": "stream",
     "text": [
      "[(u'492346', [3, 2, 0, 9, 1, 0, 1, 3, 6, 0, 0, 5, 14, 9, 0, 0, 0, 0, 7, 1, 3, 0, 1, 0, 2, 0, 0, 0, 3, 2, 0, 3]), (u'343811', [15, 5, 6, 3, 1, 3, 3, 0, 4, 0, 1, 2, 1, 0, 4, 6, 0, 4, 4, 1, 0, 5, 1, 1, 5, 5, 0, 3, 0, 5, 1, 2]), (u'347257', [20, 1, 3, 19, 24, 11, 8, 0, 33, 10, 2, 3, 21, 19, 10, 8, 2, 10, 12, 24, 0, 5, 24, 25, 1, 5, 6, 28, 0, 1, 3, 9]), (u'225529', [25, 29, 67, 38, 64, 6, 0, 42, 85, 39, 37, 2, 14, 18, 2, 73, 82, 2, 0, 125, 240, 21, 39, 3, 23, 2, 17, 68, 32, 29, 45, 20]), (u'485488', [1, 1, 12, 0, 0, 7, 3, 0, 5, 0, 1, 4, 0, 0, 5, 0, 0, 5, 5, 0, 1, 3, 0, 2, 1, 3, 5, 5, 0, 1, 3, 3]), (u'74981', [4, 2, 1, 2, 2, 1, 0, 10, 2, 0, 2, 1, 1, 2, 6, 4, 0, 6, 2, 2, 13, 7, 2, 0, 6, 0, 2, 2, 10, 6, 2, 0]), (u'204180', [6, 1, 4, 0, 3, 3, 3, 5, 0, 1, 8, 0, 0, 0, 0, 1, 2, 0, 0, 6, 5, 6, 6, 6, 1, 9, 1, 1, 5, 1, 8, 3]), (u'454372', [3, 5, 3, 1, 2, 1, 6, 0, 0, 4, 1, 2, 0, 1, 2, 2, 0, 2, 2, 2, 3, 3, 2, 0, 5, 5, 4, 4, 0, 5, 1, 3]), (u'112235', [3, 2, 7, 7, 3, 4, 15, 6, 0, 2, 29, 5, 14, 6, 24, 4, 11, 24, 20, 3, 6, 39, 3, 7, 9, 5, 4, 0, 6, 14, 3, 2]), (u'295251', [3, 2, 9, 9, 4, 4, 7, 26, 6, 6, 2, 20, 0, 22, 6, 1, 0, 6, 6, 4, 12, 9, 4, 6, 2, 20, 2, 1, 26, 2, 16, 8])]\n"
     ]
    }
   ],
   "source": [
    "ID = 0\n",
    "TEXT = 9\n",
    "R = 4\n",
    "B = 8\n",
    "\n",
    "trainRDD = sc.textFile(\"train_sin_repeticiones.csv\").map(lambda line: line.split(\",\"))\n",
    "\n",
    "trainRDD = trainRDD.filter(lambda line: line[ID] != \"Id\")\n",
    "\n",
    "trainRDD = trainRDD.map(lambda line: (line[ID], shingles(line[TEXT],SHINGLES_LEN)))\n",
    "\n",
    "trainRDD = trainRDD.map(lambda line: (line[0], [ minhash(line[1], i) for i in xrange(0, R*B) ] )).take(10)\n",
    "\n",
    "print trainRDD\n"
   ]
  },
  {
   "cell_type": "code",
   "execution_count": 3,
   "metadata": {
    "collapsed": false
   },
   "outputs": [
    {
     "name": "stdout",
     "output_type": "stream",
     "text": [
      "Adding record:492346 to LSH at POS:56\n",
      "table:[u'492346']\n",
      "Adding record:492346 to LSH at POS:4\n",
      "table:[u'492346']\n",
      "Adding record:492346 to LSH at POS:91\n",
      "table:[u'492346']\n",
      "Adding record:492346 to LSH at POS:26\n",
      "table:[u'492346']\n",
      "Adding record:492346 to LSH at POS:5\n",
      "table:[u'492346']\n",
      "Adding record:492346 to LSH at POS:19\n",
      "table:[u'492346']\n",
      "Adding record:492346 to LSH at POS:30\n",
      "table:[u'492346']\n",
      "Adding record:492346 to LSH at POS:54\n",
      "table:[u'492346']\n",
      "Adding record:343811 to LSH at POS:80\n",
      "table:[u'343811']\n",
      "Adding record:343811 to LSH at POS:62\n",
      "table:[u'343811']\n",
      "Adding record:343811 to LSH at POS:57\n",
      "table:[u'343811']\n",
      "Adding record:343811 to LSH at POS:33\n",
      "table:[u'343811']\n",
      "Adding record:343811 to LSH at POS:57\n",
      "table:[u'343811']\n",
      "Adding record:343811 to LSH at POS:11\n",
      "table:[u'343811']\n",
      "Adding record:343811 to LSH at POS:98\n",
      "table:[u'343811']\n",
      "Adding record:343811 to LSH at POS:98\n",
      "table:[u'343811']\n",
      "Adding record:347257 to LSH at POS:85\n",
      "table:[u'347257']\n",
      "Adding record:347257 to LSH at POS:30\n",
      "table:[u'347257']\n",
      "Adding record:347257 to LSH at POS:3\n",
      "table:[u'347257']\n",
      "Adding record:347257 to LSH at POS:59\n",
      "table:[u'347257']\n",
      "Adding record:347257 to LSH at POS:84\n",
      "table:[u'347257']\n",
      "Adding record:347257 to LSH at POS:24\n",
      "table:[u'347257']\n",
      "Adding record:347257 to LSH at POS:4\n",
      "table:[u'347257']\n",
      "Adding record:225529 to LSH at POS:98\n",
      "table:[u'225529']\n",
      "Adding record:225529 to LSH at POS:19\n",
      "table:[u'225529']\n",
      "Adding record:225529 to LSH at POS:9\n",
      "table:[u'225529']\n",
      "Adding record:225529 to LSH at POS:73\n",
      "table:[u'225529']\n",
      "Adding record:225529 to LSH at POS:4\n",
      "table:[u'225529']\n",
      "Adding record:225529 to LSH at POS:5\n",
      "table:[u'225529']\n",
      "Adding record:225529 to LSH at POS:45\n",
      "table:[u'225529']\n",
      "Adding record:225529 to LSH at POS:36\n",
      "table:[u'225529']\n",
      "Adding record:485488 to LSH at POS:12\n",
      "table:[u'485488']\n",
      "Adding record:485488 to LSH at POS:77\n",
      "table:[u'485488']\n",
      "Adding record:485488 to LSH at POS:14\n",
      "table:[u'485488']\n",
      "Adding record:485488 to LSH at POS:95\n",
      "table:[u'485488']\n",
      "Adding record:485488 to LSH at POS:34\n",
      "table:[u'485488']\n",
      "Adding record:485488 to LSH at POS:94\n",
      "table:[u'485488']\n",
      "Adding record:485488 to LSH at POS:63\n",
      "table:[u'485488']\n",
      "Adding record:74981 to LSH at POS:99\n",
      "table:[u'74981']\n",
      "Adding record:74981 to LSH at POS:43\n",
      "table:[u'74981']\n",
      "Adding record:74981 to LSH at POS:50\n",
      "table:[u'74981']\n",
      "Adding record:74981 to LSH at POS:41\n",
      "table:[u'74981']\n",
      "Adding record:74981 to LSH at POS:32\n",
      "table:[u'74981']\n",
      "Adding record:74981 to LSH at POS:46\n",
      "table:[u'74981']\n",
      "Adding record:74981 to LSH at POS:74\n",
      "table:[u'74981']\n",
      "Adding record:74981 to LSH at POS:21\n",
      "table:[u'74981']\n",
      "Adding record:204180 to LSH at POS:64\n",
      "table:[u'204180']\n",
      "Adding record:204180 to LSH at POS:73\n",
      "table:[u'204180']\n",
      "Adding record:204180 to LSH at POS:81\n",
      "table:[u'204180']\n",
      "Adding record:204180 to LSH at POS:99\n",
      "table:[u'204180']\n",
      "Adding record:204180 to LSH at POS:1\n",
      "table:[u'204180']\n",
      "Adding record:204180 to LSH at POS:78\n",
      "table:[u'204180']\n",
      "Adding record:204180 to LSH at POS:18\n",
      "table:[u'204180']\n",
      "Adding record:204180 to LSH at POS:91\n",
      "table:[u'204180']\n",
      "Adding record:454372 to LSH at POS:79\n",
      "table:[u'454372']\n",
      "Adding record:454372 to LSH at POS:1\n",
      "table:[u'454372']\n",
      "Adding record:454372 to LSH at POS:84\n",
      "table:[u'454372']\n",
      "Adding record:454372 to LSH at POS:93\n",
      "table:[u'454372']\n",
      "Adding record:454372 to LSH at POS:50\n",
      "table:[u'454372']\n",
      "Adding record:454372 to LSH at POS:43\n",
      "table:[u'454372']\n",
      "Adding record:454372 to LSH at POS:91\n",
      "table:[u'454372']\n",
      "Adding record:454372 to LSH at POS:26\n",
      "table:[u'454372']\n",
      "Adding record:112235 to LSH at POS:82\n",
      "table:[u'112235']\n",
      "Adding record:112235 to LSH at POS:95\n",
      "table:[u'112235']\n",
      "Adding record:112235 to LSH at POS:18\n",
      "table:[u'112235']\n",
      "Adding record:112235 to LSH at POS:99\n",
      "table:[u'112235']\n",
      "Adding record:112235 to LSH at POS:89\n",
      "table:[u'112235']\n",
      "Adding record:112235 to LSH at POS:24\n",
      "table:[u'112235']\n",
      "Adding record:112235 to LSH at POS:80\n",
      "table:[u'112235']\n",
      "Adding record:295251 to LSH at POS:92\n",
      "table:[u'295251']\n",
      "Adding record:295251 to LSH at POS:75\n",
      "table:[u'295251']\n",
      "Adding record:295251 to LSH at POS:62\n",
      "table:[u'295251']\n",
      "Adding record:295251 to LSH at POS:83\n",
      "table:[u'295251']\n",
      "Adding record:295251 to LSH at POS:52\n",
      "table:[u'295251']\n",
      "Adding record:295251 to LSH at POS:47\n",
      "table:[u'295251']\n",
      "Adding record:295251 to LSH at POS:54\n",
      "table:[u'295251']\n",
      "Adding record:295251 to LSH at POS:34\n",
      "table:[u'295251']\n"
     ]
    }
   ],
   "source": [
    "from LSH import LSH\n",
    "from Record import Record\n",
    "\n",
    "lsh = LSH(R,B)\n",
    "\n",
    "for i in xrange(len(trainRDD)):\n",
    "    record = Record((trainRDD[i][0], trainRDD[i][1]))\n",
    "    lsh.add(record)\n"
   ]
  },
  {
   "cell_type": "code",
   "execution_count": 4,
   "metadata": {
    "collapsed": true
   },
   "outputs": [],
   "source": [
    "text = \"i got them in a very timely manner and they're all very large and green. there seems to be an inordinate amount of the seeds e out a weird beige color, but it still tastes great and is a much better deal than any of the indian markets in town. cheers to frontier.\"\n",
    "test = (492346,shingles(text,4))\n",
    "test = (test[0], [ minhash(test[1], i) for i in xrange(0, R*B) ] )\n",
    "testRecord = Record(test)"
   ]
  },
  {
   "cell_type": "code",
   "execution_count": 5,
   "metadata": {
    "collapsed": false
   },
   "outputs": [
    {
     "name": "stdout",
     "output_type": "stream",
     "text": [
      "Getting records from POS:99 from: [u'204180']\n",
      "Getting records from POS:99 from: [u'112235']\n",
      "[u'204180', u'112235']\n"
     ]
    }
   ],
   "source": [
    "print lsh.getAllSimilarRecords(testRecord)"
   ]
  },
  {
   "cell_type": "code",
   "execution_count": null,
   "metadata": {
    "collapsed": true
   },
   "outputs": [],
   "source": []
  }
 ],
 "metadata": {
  "kernelspec": {
   "display_name": "pySpark",
   "language": "python",
   "name": "pyspark"
  },
  "language_info": {
   "codemirror_mode": {
    "name": "ipython",
    "version": 2
   },
   "file_extension": ".py",
   "mimetype": "text/x-python",
   "name": "python",
   "nbconvert_exporter": "python",
   "pygments_lexer": "ipython2",
   "version": "2.7.6"
  }
 },
 "nbformat": 4,
 "nbformat_minor": 1
}
