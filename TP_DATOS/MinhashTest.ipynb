{
 "cells": [
  {
   "cell_type": "code",
   "execution_count": 1,
   "metadata": {
    "collapsed": false
   },
   "outputs": [],
   "source": [
    "import csv\n",
    "import pandas\n",
    "import numpy\n",
    "import random\n",
    "from CWHashingFamily import CWHashingFamily\n",
    "\n",
    "import sys\n",
    "reload(sys)\n",
    "sys.setdefaultencoding('utf-8')\n",
    "\n",
    "SHINGLES_LEN = 4\n",
    "PRIME = 997\n",
    "BINS = 900\n",
    "\n",
    "def shingles(text, shingleSize):\n",
    "    allShingles = []\n",
    "    for i in xrange(10):\n",
    "        randomEnd = random.randrange(shingleSize-1, len(text))\n",
    "        allShingles.append(text[(randomEnd-shingleSize):randomEnd])\n",
    "    return allShingles\n",
    "    #return [text[i:i+shingleSize] for i in xrange(0,len(text)-(shingleSize+1))]\n",
    "\n",
    "\n",
    "def minhash(shinglesList, seed):\n",
    "    random.seed(seed)\n",
    "    minhash = -1\n",
    "    for shingle in shinglesList:\n",
    "        cwFactory = CWHashingFamily(BINS, PRIME)\n",
    "        numericHash = cwFactory.numericFunction(random.randrange(1,PRIME), random.randrange(0,PRIME))\n",
    "        stringHash = cwFactory.stringFunction(random.randrange(0,PRIME),numericHash)\n",
    "        shHash = stringHash.hash(shingle)\n",
    "        if ((minhash == -1) or (shHash < minhash)):\n",
    "            minhash = shHash\n",
    "    return minhash"
   ]
  },
  {
   "cell_type": "code",
   "execution_count": 2,
   "metadata": {
    "collapsed": false
   },
   "outputs": [],
   "source": [
    "ID = 0\n",
    "PREDICTION = 6\n",
    "TEXT = 9\n",
    "\n",
    "R = 4\n",
    "B = 8\n",
    "\n",
    "trainRDD = sc.textFile(\"train_sin_repeticiones.csv\",minPartitions=None, use_unicode=False).mapPartitions(lambda x: csv.DictReader(x))\n",
    "testRDD = sc.textFile(\"test.csv\",minPartitions=None, use_unicode=False).mapPartitions(lambda x: csv.DictReader(x))\n",
    "\n",
    "#testRDD = testRDD.filter(lambda line: line[ID] != \"Id\")\n",
    "#trainRDD = trainRDD.filter(lambda line: line[ID] != \"Id\")\n",
    "\n"
   ]
  },
  {
   "cell_type": "code",
   "execution_count": 11,
   "metadata": {
    "collapsed": false
   },
   "outputs": [],
   "source": [
    "trainRDD = sc.parallelize(trainRDD.top(10))\n",
    "testRDD = sc.parallelize(testRDD.top(10))\n",
    "\n",
    "trainRDD = trainRDD.map(lambda line: ((line[\"Id\"],line[\"Prediction\"]), shingles(line[\"Text\"],SHINGLES_LEN)))\n",
    "testRDD = testRDD.map(lambda line: (line[\"Id\"], shingles(line[\"Text\"],SHINGLES_LEN)))\n",
    "\n",
    "trainRDD = trainRDD.map(lambda line: (line[0], [ minhash(line[1], i) for i in xrange(0, R*B) ] ))\n",
    "testRDD = testRDD.map(lambda line: (line[0], [ minhash(line[1], i) for i in xrange(0, R*B) ] ))\n",
    "\n",
    "print trainRDD.take(10)\n",
    "print testRDD.take(10)"
   ]
  },
  {
   "cell_type": "code",
   "execution_count": 14,
   "metadata": {
    "collapsed": false
   },
   "outputs": [],
   "source": [
    "from LSH import LSH\n",
    "from Record import Record\n",
    "import time\n",
    "\n",
    "lshTrain = LSH(R,B)\n",
    "\n",
    "trainRDD = trainRDD.flatMap(lambda line: [lshTrain.add(Record(line[0][0], line[0][1], line[1]))])\n",
    "\n",
    "#ESTO ANDA con la version anterior de LSH:\n",
    "\n",
    "#trainRDD = trainRDD.take(300)\n",
    "\n",
    "#start_time = time.time()\n",
    "\n",
    "#for i in xrange(len(trainRDD)):\n",
    "#    record = Record((trainRDD[i][0], trainRDD[i][1]) )\n",
    "#    lshTrain.add(record)\n",
    "    \n",
    "#shinglesText = \"i got them in a very timely manner and they're all very large and green. there seems to be an inordinate amount of the seeds e out a weird beige color, but it still tastes great and is a much better deal than any of the indian markets in town. cheers to frontier.\"\n",
    "#test = (492346,shingles(shinglesText,SHINGLES_LEN))\n",
    "#test = (test[0], [ minhash(test[1], i) for i in xrange(0, R*B) ])\n",
    "#testRecord = Record(test)\n",
    "\n",
    "#print lshTrain.getAllSimilarRecords(testRecord)\n",
    "\n",
    "#print(\"--- %s seconds ---\" % (time.time() - start_time))\n"
   ]
  },
  {
   "cell_type": "code",
   "execution_count": 15,
   "metadata": {
    "collapsed": false
   },
   "outputs": [],
   "source": [
    "shinglesText = \"i got them in a very timely manner and they're all very large and green. there seems to be an inordinate amount of the seeds e out a weird beige color, but it still tastes great and is a much better deal than any of the indian markets in town. cheers to frontier.\"\n",
    "test = (492346,shingles(shinglesText,SHINGLES_LEN))\n",
    "test = (test[0], [ minhash(test[1], i) for i in xrange(0, R*B) ])\n",
    "candidates = lshTrain.getAllSimilarRecords(Record(test[0], 0, test[1]))"
   ]
  },
  {
   "cell_type": "code",
   "execution_count": null,
   "metadata": {
    "collapsed": true
   },
   "outputs": [],
   "source": [
    "\n",
    "\n"
   ]
  },
  {
   "cell_type": "code",
   "execution_count": 16,
   "metadata": {
    "collapsed": false
   },
   "outputs": [],
   "source": [
    "def recordIsCandidate(candidates, record):\n",
    "    for candidate in candidates:\n",
    "        if record.isAt(candidate[0], candidate[1]):\n",
    "            return True\n",
    "    return False\n",
    "\n",
    "trainRDD = trainRDD.filter(lambda record: recordIsCandidate(candidates, record)).flatMap(lambda record: [record.getPrediction()])\n",
    "\n",
    "trainRDD = trainRDD.take(10)\n",
    "\n",
    "for record in trainRDD:\n",
    "    print str(record)"
   ]
  }
 ],
 "metadata": {
  "kernelspec": {
   "display_name": "pySpark",
   "language": "python",
   "name": "pyspark"
  },
  "language_info": {
   "codemirror_mode": {
    "name": "ipython",
    "version": 2
   },
   "file_extension": ".py",
   "mimetype": "text/x-python",
   "name": "python",
   "nbconvert_exporter": "python",
   "pygments_lexer": "ipython2",
   "version": "2.7.6"
  }
 },
 "nbformat": 4,
 "nbformat_minor": 1
}
