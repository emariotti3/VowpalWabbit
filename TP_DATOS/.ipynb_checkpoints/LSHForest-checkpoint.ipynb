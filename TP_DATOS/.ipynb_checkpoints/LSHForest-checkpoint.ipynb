{
 "cells": [
  {
   "cell_type": "code",
   "execution_count": 1,
   "metadata": {
    "collapsed": true
   },
   "outputs": [],
   "source": [
    "import csv\n",
    "import numpy\n",
    "import random\n",
    "from CWHashingFamily import CWHashingFamily\n",
    "from sklearn.neighbors import LSHForest\n",
    "\n",
    "import sys\n",
    "reload(sys)\n",
    "sys.setdefaultencoding('utf-8')\n",
    "\n",
    "SHINGLES_QTY = 10\n",
    "SHINGLES_LEN = 4\n",
    "PRIME = 997\n",
    "BINS = 900\n",
    "\n",
    "def minhashList(shinglesList, mhQty):\n",
    "    #Receives a quantity of minhashes to be calculated\n",
    "    #Receives a list of shingles belonging to a text\n",
    "    #Returns a list of mhQty minhashes for the provided shinglesList\n",
    "    return [minhash(shinglesList, i) for i in xrange(0,mhQty)]\n",
    "\n",
    "\n",
    "def shingles(text, shingleSize, shinglesQty):\n",
    "    #Receives a text or string. Receives a size shingleSize and \n",
    "    #a quantity shinglesQty. \n",
    "    #Returns a list of shingleSize length random shingles\n",
    "    #from the text containint shinglesQty shingles in total.\n",
    "    allShingles = []\n",
    "    for i in xrange(shinglesQty):\n",
    "        randomEnd = random.randrange(shingleSize-1, len(text))\n",
    "        allShingles.append(text[(randomEnd-shingleSize-1):randomEnd])\n",
    "    return allShingles\n",
    "\n",
    "\n",
    "def minhash(shinglesList, seed):\n",
    "    #Receives a list of shingles and a seed.\n",
    "    #Returns a minhash value for the corresponding\n",
    "    #set of shingles and the seed.\n",
    "    random.seed(seed)\n",
    "    minhash = -1\n",
    "    for shingle in shinglesList:\n",
    "        cwFactory = CWHashingFamily(BINS, PRIME)\n",
    "        numericHash = cwFactory.numericFunction(random.randrange(1,PRIME), random.randrange(0,PRIME))\n",
    "        stringHash = cwFactory.stringFunction(random.randrange(0,PRIME),numericHash)\n",
    "        shHash = stringHash.hash(shingle)\n",
    "        if ((minhash == -1) or (shHash < minhash)):\n",
    "            minhash = shHash\n",
    "    return minhash\n"
   ]
  },
  {
   "cell_type": "code",
   "execution_count": 2,
   "metadata": {
    "collapsed": false
   },
   "outputs": [],
   "source": [
    "ID = 0\n",
    "PREDICTION = 6\n",
    "TEXT = 9\n",
    "\n",
    "R = 4\n",
    "B = 2\n",
    "\n",
    "#Load train set from csv file and filter header line.\n",
    "trainRDD = sc.textFile(\"train_sin_repeticiones.csv\",minPartitions=None, use_unicode=False).mapPartitions(lambda x: csv.reader(x))\n",
    "trainRDD = trainRDD.filter(lambda line: line[0]!=\"Id\")"
   ]
  },
  {
   "cell_type": "code",
   "execution_count": 3,
   "metadata": {
    "collapsed": false
   },
   "outputs": [
    {
     "data": {
      "text/plain": [
       "LSHForest(min_hash_match=4, n_candidates=50, n_estimators=10, n_neighbors=5,\n",
       "     radius=1.0, radius_cutoff_ratio=0.9, random_state=42)"
      ]
     },
     "execution_count": 3,
     "metadata": {},
     "output_type": "execute_result"
    }
   ],
   "source": [
    "#Transform the train set to an RDD containing two fields (PREDICTION, MHLIST)\n",
    "#Where PREDICTION is the provided value for the review score and MHLIST is a list\n",
    "#of R*B = 8 Minhashes calculated from each reviews' own text.\n",
    "trainRDD = trainRDD.map(lambda line:( int(line[PREDICTION]), [ minhashList(shingles(line[TEXT], SHINGLES_LEN, SHINGLES_QTY),R*B) ] ) )\n",
    "\n",
    "#Perform a reduceByKey transformation through which all the minhash lists corresponding\n",
    "#to a specific score will be grouped together\n",
    "trainRDD = trainRDD.reduceByKey(lambda line1, line2: line1 + line2 )\n",
    "\n",
    "#trainRDD = trainRDD.reduceByKey(lambda line1, line2: line1.append(line2) )\n",
    "\n",
    "#Train 5 models of LSHForest, one for each score, with the obtained lists for the minhashes.\n",
    "lsh5Stars = LSHForest(random_state=42)\n",
    "lsh5Stars.fit(trainRDD.filter(lambda line: int(line[0]) == 5).first()[1])\n",
    "\n",
    "lsh4Stars = LSHForest(random_state=42)\n",
    "lsh4Stars.fit(trainRDD.filter(lambda line: int(line[0]) == 4).first()[1])\n",
    "\n",
    "lsh3Stars = LSHForest(random_state=42)\n",
    "lsh3Stars.fit(trainRDD.filter(lambda line: int(line[0]) == 3).first()[1])\n",
    "\n",
    "lsh2Stars = LSHForest(random_state=42)\n",
    "lsh2Stars.fit(trainRDD.filter(lambda line: int(line[0]) == 2).first()[1])\n",
    "\n",
    "lsh1Stars = LSHForest(random_state=42)\n",
    "lsh1Stars.fit(trainRDD.filter(lambda line: int(line[0]) == 1).first()[1])"
   ]
  },
  {
   "cell_type": "code",
   "execution_count": 21,
   "metadata": {
    "collapsed": true
   },
   "outputs": [],
   "source": [
    "#Load test set from RDD into an rdd.\n",
    "testRDD = sc.textFile(\"test.csv\",minPartitions=None, use_unicode=False).mapPartitions(lambda x: csv.reader(x))\n",
    "testRDD = testRDD.filter(lambda line: line[0]!=\"Id\")"
   ]
  },
  {
   "cell_type": "code",
   "execution_count": 22,
   "metadata": {
    "collapsed": false
   },
   "outputs": [],
   "source": [
    "ID = 0\n",
    "PREDICTION = 1\n",
    "TEXT = 8\n",
    "\n",
    "def writePredictionAndReturn(review):\n",
    "    #Receives a review which is expected to consist of the following fields:\n",
    "    #[\"Id\", \"ProductId\", \"UserId\", \"ProfileName\", \"HelpfulnessNumerator\",\"HelpfulnessDenominator\", \"Prediction\", \"Time\", \"Summary\", \"Text\"]\n",
    "    #Returns a predicted score for the review.\n",
    "    try:\n",
    "        #Obtain the reviews' minhash list.\n",
    "        minhashes = minhashList(shingles(review[TEXT], SHINGLES_LEN, SHINGLES_QTY),R*B)\n",
    "        \n",
    "        #Obtain THE nearest neighbour from each LSH Forest, that is one for each score.\n",
    "        distance5, neighbour5 = lsh5Stars.kneighbors(minhashes, n_neighbors=1)\n",
    "        distance4, neighbour4 = lsh4Stars.kneighbors(minhashes, n_neighbors=1)\n",
    "        distance3, neighbour3 = lsh3Stars.kneighbors(minhashes, n_neighbors=1)\n",
    "        distance2, neighbour2 = lsh2Stars.kneighbors(minhashes, n_neighbors=1)\n",
    "        distance1, neighbour1 = lsh1Stars.kneighbors(minhashes, n_neighbors=1)\n",
    "\n",
    "        #Calculate the 1/distance to each neighbour. Since we want the nearest\n",
    "        #neighbours to be more relevant for the prediction.\n",
    "        iDistance5 = 1/distance5[0][0]\n",
    "        iDistance4 = 1/distance4[0][0]\n",
    "        iDistance3 = 1/distance3[0][0]\n",
    "        iDistance2 = 1/distance2[0][0]\n",
    "        iDistance1 = 1/distance1[0][0]\n",
    "\n",
    "        #Calculate weighed average of all existing scores where the corresponding weights\n",
    "        #will be 1/distance to each neighbour.\n",
    "        prediction = iDistance5*5 + iDistance4*4 + iDistance3*3 + iDistance2*2 + iDistance1\n",
    "        total = iDistance5 + iDistance4 + iDistance3 + iDistance2 + iDistance1\n",
    "\n",
    "        #Since we treat this as a classification problem take the nearest\n",
    "        #score as the predicted final score for the review.\n",
    "        prediction = int(prediction / (total))\n",
    "        \n",
    "    except Exception,e:\n",
    "        return 0\n",
    "    return prediction\n",
    "\n",
    "#Map each Id of the set to the predicted value of the review score based on\n",
    "#the provided text.\n",
    "testRDD = testRDD.map(lambda review: (review[0],writePredictionAndReturn(review)))\n"
   ]
  },
  {
   "cell_type": "code",
   "execution_count": 34,
   "metadata": {
    "collapsed": false
   },
   "outputs": [],
   "source": [
    "import pandas\n",
    "base = '/home/eugenia/VowpalWabbit/TPDatos/'\n",
    "\n",
    "#RDD to Spark DataFrame\n",
    "mappedRDD = testRDD.map(lambda x: str(x)).map(lambda w: w.split(','))\n",
    "mappedRDD.saveAsTextFile(base+'lshPredictions.csv')"
   ]
  }
 ],
 "metadata": {
  "kernelspec": {
   "display_name": "pySpark",
   "language": "python",
   "name": "pyspark"
  },
  "language_info": {
   "codemirror_mode": {
    "name": "ipython",
    "version": 2
   },
   "file_extension": ".py",
   "mimetype": "text/x-python",
   "name": "python",
   "nbconvert_exporter": "python",
   "pygments_lexer": "ipython2",
   "version": "2.7.6"
  }
 },
 "nbformat": 4,
 "nbformat_minor": 1
}
