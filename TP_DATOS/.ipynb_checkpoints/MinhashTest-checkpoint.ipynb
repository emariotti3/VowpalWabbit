{
 "cells": [
  {
   "cell_type": "code",
   "execution_count": 3,
   "metadata": {
    "collapsed": false
   },
   "outputs": [],
   "source": [
    "import csv\n",
    "import pandas\n",
    "import numpy\n",
    "import random\n",
    "from CWHashingFamily import CWHashingFamily\n",
    "\n",
    "import sys\n",
    "reload(sys)\n",
    "sys.setdefaultencoding('utf-8')\n",
    "\n",
    "SHINGLES_LEN = 4\n",
    "PRIME = 997\n",
    "BINS = 900\n",
    "\n",
    "def shingles(text, shingleSize):\n",
    "    return [text[i:i+shingleSize] for i in xrange(0,len(text)-(shingleSize+1))]\n",
    "\n",
    "\n",
    "def minhash(shinglesList, seed):\n",
    "    random.seed(seed)\n",
    "    minhash = -1\n",
    "    for shingle in shinglesList:\n",
    "        cwFactory = CWHashingFamily(BINS, PRIME)\n",
    "        numericHash = cwFactory.numericFunction(random.randrange(1,PRIME), random.randrange(0,PRIME))\n",
    "        stringHash = cwFactory.stringFunction(random.randrange(0,PRIME),numericHash)\n",
    "        shHash = stringHash.hash(shingle)\n",
    "        if ((minhash == -1) or (shHash < minhash)):\n",
    "            minhash = shHash\n",
    "    return minhash"
   ]
  },
  {
   "cell_type": "code",
   "execution_count": 15,
   "metadata": {
    "collapsed": false
   },
   "outputs": [],
   "source": [
    "ID = 0\n",
    "TEXT = 9\n",
    "R = 4\n",
    "B = 8\n",
    "\n",
    "trainRDD = sc.textFile(\"train_sin_repeticiones.csv\",minPartitions=None, use_unicode=False).mapPartitions(lambda x: csv.reader(x))\n",
    "\n",
    "trainRDD = trainRDD.filter(lambda line: line[ID] != \"Id\")\n",
    "\n",
    "trainRDD = trainRDD.map(lambda line: (int(line[ID]), shingles(line[TEXT].encode('utf-8'),SHINGLES_LEN)))\n",
    "\n",
    "trainRDD = trainRDD.map(lambda line: (line[0], [ minhash(line[1], i) for i in xrange(0, R*B) ] ))\n",
    "\n"
   ]
  },
  {
   "cell_type": "code",
   "execution_count": 16,
   "metadata": {
    "collapsed": false
   },
   "outputs": [],
   "source": [
    "from LSH import LSH\n",
    "from Record import Record\n",
    "\n",
    "lsh = LSH(R,B)\n",
    "#ESTO NO ANDA\n",
    "\n",
    "trainList = trainRDD.take(100)\n",
    "\n",
    "testRDD = sc.parallelize(trainList)\n",
    "\n",
    "testRDD = testRDD.foreach(lambda line: lsh.add( Record(line[0], line[1]) ) )\n",
    "\n",
    "#ESTO ANDA:\n",
    "#trainRDD = trainRDD.take(10)\n",
    "#for i in xrange(len(trainRDD)):\n",
    "#    record = Record((trainRDD[i][0], trainRDD[i][1]) )\n",
    "#    lsh.add(record)\n"
   ]
  },
  {
   "cell_type": "code",
   "execution_count": 17,
   "metadata": {
    "collapsed": false
   },
   "outputs": [],
   "source": [
    "shinglesText = \"i got them in a very timely manner and they're all very large and green. there seems to be an inordinate amount of the seeds e out a weird beige color, but it still tastes great and is a much better deal than any of the indian markets in town. cheers to frontier.\"\n",
    "test = (492346,shingles(shinglesText,SHINGLES_LEN))\n",
    "test = (test[0], [ minhash(test[1], i) for i in xrange(0, R*B) ])\n",
    "testRecord = Record(test)"
   ]
  },
  {
   "cell_type": "code",
   "execution_count": 18,
   "metadata": {
    "collapsed": false
   },
   "outputs": [],
   "source": [
    "print lsh.getAllSimilarRecords(testRecord)\n",
    "\n",
    "print lsh.getTable(0)"
   ]
  }
 ],
 "metadata": {
  "kernelspec": {
   "display_name": "pySpark",
   "language": "python",
   "name": "pyspark"
  },
  "language_info": {
   "codemirror_mode": {
    "name": "ipython",
    "version": 2
   },
   "file_extension": ".py",
   "mimetype": "text/x-python",
   "name": "python",
   "nbconvert_exporter": "python",
   "pygments_lexer": "ipython2",
   "version": "2.7.6"
  }
 },
 "nbformat": 4,
 "nbformat_minor": 1
}
