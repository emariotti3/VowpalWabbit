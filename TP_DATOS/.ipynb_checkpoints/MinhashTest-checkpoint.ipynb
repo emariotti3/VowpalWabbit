{
 "cells": [
  {
   "cell_type": "code",
   "execution_count": 1,
   "metadata": {
    "collapsed": false
   },
   "outputs": [],
   "source": [
    "import csv\n",
    "import itertools\n",
    "import numpy\n",
    "import random\n",
    "from CWHashingFamily import CWHashingFamily\n",
    "\n",
    "SHINGLES_LEN = 4\n",
    "PRIME = 997\n",
    "BINS = 900\n",
    "\n",
    "def shingles(text, shingleSize):\n",
    "    return [text[i:i+shingleSize] for i in xrange(0,len(text)-(shingleSize+1))]\n",
    "\n",
    "\n",
    "def minhash(shinglesList, seed):\n",
    "    random.seed(seed)\n",
    "    minhash = -1\n",
    "    for shingle in shinglesList:\n",
    "        cwFactory = CWHashingFamily(BINS, PRIME)\n",
    "        numericHash = cwFactory.numericFunction(random.randrange(1,PRIME), random.randrange(0,PRIME))\n",
    "        stringHash = cwFactory.stringFunction(random.randrange(0,PRIME),numericHash)\n",
    "        shHash = stringHash.hash(shingle)\n",
    "        if ((minhash == -1) or (shHash < minhash)):\n",
    "            minhash = shHash\n",
    "    return minhash"
   ]
  },
  {
   "cell_type": "code",
   "execution_count": 8,
   "metadata": {
    "collapsed": false
   },
   "outputs": [
    {
     "name": "stdout",
     "output_type": "stream",
     "text": [
      "[(u'492346', [7, 0, 2, 0, 4, 1, 21, 4, 6, 2, 0, 1, 2, 2, 0, 0, 3, 8, 0, 0, 6, 6, 1, 0, 0, 2, 0, 4, 2, 0, 0, 0]), (u'343811', [6, 2, 0, 2, 0, 2, 3, 0, 0, 4, 3, 4, 7, 0, 2, 11, 1, 0, 6, 8, 1, 1, 3, 0, 2, 0, 0, 12, 1, 1, 6, 4]), (u'347257', [1, 28, 13, 19, 0, 10, 0, 1, 3, 23, 15, 6, 17, 1, 19, 24, 3, 4, 0, 31, 14, 5, 0, 6, 10, 9, 2, 2, 2, 7, 0, 4]), (u'225529', [48, 87, 96, 49, 67, 13, 11, 11, 14, 15, 43, 42, 26, 55, 0, 203, 59, 17, 17, 7, 73, 10, 38, 41, 43, 99, 20, 77, 75, 93, 69, 14]), (u'485488', [0, 1, 0, 2, 4, 4, 5, 0, 1, 2, 0, 1, 1, 2, 2, 6, 9, 2, 1, 0, 0, 0, 9, 1, 4, 4, 2, 5, 6, 5, 0, 2]), (u'74981', [12, 0, 1, 3, 2, 1, 0, 3, 0, 2, 0, 4, 1, 0, 0, 8, 1, 2, 1, 3, 2, 1, 10, 1, 0, 1, 0, 0, 1, 0, 0, 5]), (u'204180', [1, 10, 0, 0, 2, 0, 6, 2, 2, 4, 0, 1, 1, 1, 1, 0, 7, 3, 10, 1, 3, 3, 1, 3, 0, 0, 2, 0, 0, 1, 0, 1]), (u'454372', [1, 0, 0, 1, 2, 0, 0, 1, 4, 2, 4, 0, 2, 4, 1, 0, 5, 0, 6, 0, 14, 0, 0, 2, 0, 4, 2, 2, 3, 11, 2, 0]), (u'112235', [17, 2, 6, 1, 17, 1, 16, 4, 24, 5, 5, 22, 7, 3, 2, 18, 23, 9, 9, 23, 24, 16, 4, 3, 10, 12, 1, 3, 19, 2, 5, 2]), (u'295251', [2, 2, 3, 3, 4, 0, 5, 4, 6, 6, 11, 9, 2, 30, 8, 2, 0, 1, 2, 16, 2, 4, 3, 10, 3, 25, 4, 22, 16, 3, 3, 9])]\n"
     ]
    }
   ],
   "source": [
    "ID = 0\n",
    "TEXT = 9\n",
    "R = 4\n",
    "B = 8\n",
    "\n",
    "trainRDD = sc.textFile(\"train_sin_repeticiones.csv\").map(lambda line: line.split(\",\"))\n",
    "\n",
    "trainRDD = trainRDD.filter(lambda line: line[ID] != \"Id\")\n",
    "\n",
    "trainRDD = trainRDD.map(lambda line: (line[ID], shingles(line[TEXT],SHINGLES_LEN)))\n",
    "\n",
    "trainRDD = trainRDD.map(lambda line: (line[0], [ minhash(line[1], i) for i in xrange(0, R*B) ] ))\n",
    "\n",
    "print trainRDD.take(10)\n",
    "\n",
    "\n"
   ]
  }
 ],
 "metadata": {
  "kernelspec": {
   "display_name": "pySpark",
   "language": "python",
   "name": "pyspark"
  },
  "language_info": {
   "codemirror_mode": {
    "name": "ipython",
    "version": 2
   },
   "file_extension": ".py",
   "mimetype": "text/x-python",
   "name": "python",
   "nbconvert_exporter": "python",
   "pygments_lexer": "ipython2",
   "version": "2.7.6"
  }
 },
 "nbformat": 4,
 "nbformat_minor": 1
}
