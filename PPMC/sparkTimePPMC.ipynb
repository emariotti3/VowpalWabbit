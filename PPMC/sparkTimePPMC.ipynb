{
 "cells": [
  {
   "cell_type": "code",
   "execution_count": 16,
   "metadata": {
    "collapsed": false
   },
   "outputs": [
    {
     "name": "stdout",
     "output_type": "stream",
     "text": [
      "20000\n"
     ]
    }
   ],
   "source": [
    "import csv\n",
    "\n",
    "ID = 0\n",
    "TEXT = 9\n",
    "\n",
    "sentencesRDD = sc.textFile(\"sentences.csv\",minPartitions=None, use_unicode=False).mapPartitions(lambda x: csv.reader(x))\n",
    "\n",
    "sentencesRDD.map(lambda line: (line[ID], line[TEXT])).filter(lambda line: line[ID] != \"Id\")\n",
    "\n",
    "print sentencesRDD.count()"
   ]
  },
  {
   "cell_type": "code",
   "execution_count": 17,
   "metadata": {
    "collapsed": false
   },
   "outputs": [
    {
     "name": "stdout",
     "output_type": "stream",
     "text": [
      "--- 0.718200922012 seconds ---\n"
     ]
    }
   ],
   "source": [
    "from PPMC import PPMC\n",
    "import time\n",
    "\n",
    "ppmc = PPMC(4)\n",
    "\n",
    "start_time = time.time()\n",
    "sentencesRDD.reduceByKey(lambda line: (line[ID], ppmc.compress(line[TEXT])))\n",
    "sentencesRDD.collect()\n",
    "print(\"--- %s seconds ---\" % (time.time() - start_time))"
   ]
  }
 ],
 "metadata": {
  "kernelspec": {
   "display_name": "pySpark",
   "language": "python",
   "name": "pyspark"
  },
  "language_info": {
   "codemirror_mode": {
    "name": "ipython",
    "version": 2
   },
   "file_extension": ".py",
   "mimetype": "text/x-python",
   "name": "python",
   "nbconvert_exporter": "python",
   "pygments_lexer": "ipython2",
   "version": "2.7.6"
  }
 },
 "nbformat": 4,
 "nbformat_minor": 1
}
